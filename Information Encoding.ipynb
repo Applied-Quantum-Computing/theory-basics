{
 "cells": [
  {
   "cell_type": "markdown",
   "metadata": {},
   "source": [
    "# Theory Basics: the \"Quantum\" Behind Quantum Computing\n",
    "\n",
    "This notebook is for beginners! :D (Those who are interested in quantum computing but have not taken an college level quantum mechanics course.) I'll be real with you, this notebook dives into the **basic concepts** of quantum computing and not much application. Application will build off what you've learned here.\n",
    "\n",
    "Before we start, here are some prereqs that really are prerequisite to understanding the quantum behind quantum computing.\n",
    "\n",
    "**Prerequisites:**\n",
    "* familiar with python\n",
    "* familiar with matrices (linear algebra is the language of quantum computing)\n",
    "* familiar with jupyter notebooks\n",
    "* familiar with binary\n",
    "\n",
    "If you meet these prereqs, great! :D If not, I doubt this notebook will be helpful to you. I **strongly** encourage you to learn those topics before going on. I'd suggest Khan academy for linear algebra—particularly eigenvectors and eigenvalues.\n",
    "\n",
    "Let's dive in!\n",
    "\n",
    "### Qiskit\n",
    "To get started, you'll need to [install qiskit](https://qiskit.org/documentation/install.html#install). Qiskit is IBM's open source quantum computing python library. It has everything you need to make your own algorithms, execute well known algorithms, and run them on simulated or real quantum computers. There are other open source quantum computing libraries out there, but we'll just use qiskit for now. If you want to learn more about qiskit **definitely** go through their \"getting started\" [tutorials](https://github.com/Qiskit/qiskit-iqx-tutorials/blob/master/qiskit/1_start_here.ipynb)."
   ]
  },
  {
   "cell_type": "code",
   "execution_count": 1,
   "metadata": {},
   "outputs": [],
   "source": [
    "# This may take a few seconds\n",
    "import numpy as np\n",
    "import pandas as pd\n",
    "from qiskit import *\n",
    "import matplotlib.pyplot as plt"
   ]
  },
  {
   "cell_type": "markdown",
   "metadata": {},
   "source": [
    "**The quantum behind quantum computing is the qubit**—plain and simple. Just as normal computers store and manipulate information through [bits](https://en.wikipedia.org/wiki/Bit), quantum computers store and manipulate information through [qubits](https://www.epiqc.cs.uchicago.edu/1qubit).\n",
    "\n",
    "# The Qubit\n",
    "\n",
    "The qubit is a quantum bit. (Get it? quantum bit -> qubit? Physics jokes...) A qubit can be 0 or 1—much like it's classical companion. However, what distinguishes a qubit from a bit, is the **quantum** part. The quantum part of a qubit allows it to have a **probability** of being in 0 **and** 1 simultaneously.\n",
    "\n",
    "Let's highlight the difference between a bit and a qubit a little more. A classical bit is **always** 100% 0 **or** 1, but a qubit can be 55% 0 and 45% 1. A qubit can have any probability of being 0 than 1 as long as those probabilities **always** add to one.\n",
    "\n",
    "Let's use to math to illustrate. A very convention notation to use is Dirac notation. It uses a \"ket\" $| x \\rangle$ (or \"bra\" $\\langle x|$) to represent a qubit state. For example, a qubit 100% in the 0 state would be $|x\\rangle = |0\\rangle$. In general, we could say\n",
    "\n",
    "$$\n",
    "\\begin{align}\n",
    "|x\\rangle = \\alpha|0\\rangle + \\beta|1\\rangle\n",
    "\\end{align}\n",
    "$$\n",
    "\n",
    "where $\\alpha^2 + \\beta^2 = 1$. Note the probability of being 0 or 1 is the **square** of the coefficient. A 1/3 chance of 0 and 2/3 chance of 1 would look like $|x\\rangle = \\dfrac{1}{\\sqrt{3}}|0\\rangle + \\sqrt{\\dfrac{2}{3}}|1\\rangle$"
   ]
  },
  {
   "cell_type": "markdown",
   "metadata": {},
   "source": [
    "# Information Encoding\n",
    "\n",
    "One of the two fundamental parts of computing is information storage. For quantum computing two are straight forward methods of storing information.\n",
    "\n",
    "### State encoding\n",
    "First, you can encode it in the **state** of the qubit. This is identical to classical bit storage. For example, if you want to store the number 258 you can combine nine qubit together into the state $|100000010\\rangle$. Of course superpositions of any combination of 0's and 1's can be stored. For example, all the numbers 0-7 can be stored using three qubits $ |x\\rangle = \\dfrac{|000\\rangle + |001\\rangle + |010\\rangle + |011\\rangle + |100\\rangle + |101\\rangle + |110\\rangle + |111\\rangle}{\\sqrt{8}}$\n",
    "\n",
    "This method is nice because it is easy to initialize, but it requires a lot of qubits.\n",
    "\n",
    "### Amplitude encoding\n",
    "Second, information can be encoded in the probabilities of 0 and 1. This is nice because you can store abirtary numbers with only one qubit. For example, 258 could be encoded in the state $\\sqrt{\\dfrac{258}{66565}}|0\\rangle + \\sqrt{\\dfrac{1}{66565}}|1\\rangle$. To extract the number, we would need to prepare the qubit this way and measure it many, many times (~66565 times) then take the ratio of the probability of 0 to 1 (remember the coefficients of 0 and 1 square) which is $\\dfrac{\\frac{258}{66565}}{\\frac{1}{66565}} = 258$. Obviously the advantage is we only used **one** qubit, where in the state encoding scheme for same number (258) requires **nine** qubits. The disadvantage is in extracting information from the qubit. To find the ratio of probabilities, we need to prepare and measure the qubit A LOT."
   ]
  }
 ],
 "metadata": {
  "kernelspec": {
   "display_name": "Python 3",
   "language": "python",
   "name": "python3"
  },
  "language_info": {
   "codemirror_mode": {
    "name": "ipython",
    "version": 3
   },
   "file_extension": ".py",
   "mimetype": "text/x-python",
   "name": "python",
   "nbconvert_exporter": "python",
   "pygments_lexer": "ipython3",
   "version": "3.6.4"
  }
 },
 "nbformat": 4,
 "nbformat_minor": 2
}
