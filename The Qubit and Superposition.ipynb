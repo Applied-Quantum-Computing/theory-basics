{
 "cells": [
  {
   "cell_type": "markdown",
   "metadata": {},
   "source": [
    "# Theory Basics: the \"Quantum\" Behind Quantum Computing\n",
    "\n",
    "This notebook is for beginners! :D (Those who are interested in quantum computing but have not experience.) It's <strong>part one</strong> of the Theory Basics series, which is all about the basics of how quantum computing works. Here, I cover <strong>qubits and superposition</strong>.\n",
    "\n",
    "#### Prerequisites:\n",
    "* Familiar with python (e.g. functions, classes, methods, math operations) \n",
    "* Familiar with matrices (linear algebra is the language of quantum computing)\n",
    "* Familiar with jupyter notebooks (know how to run and get around a jupyter notebook)\n",
    "\n",
    "If you meet these prereqs, great! :D If not, this notebook may cause confusion or even discourage you from learning more about quantum computing, which is the exact <strong>opposite</strong> of what I intend. I <strong>strongly</strong> encourage you to familiarize yourself with those topics before going on. If you don't have access to a college level linear algebra or quantum mechanics course, I'd suggest Khan academy for linear algebra—particularly topics related to eigenvectors and eigenvalues.\n",
    "\n",
    "Let's dive in!\n",
    "\n",
    "## Qiskit\n",
    "To get started, you'll need to [install qiskit](https://qiskit.org/documentation/install.html#install). Qiskit is IBM's open source python library for quantum computing. It has everything you need to make your own algorithms, execute well known algorithms (e.g. QAOA, VQE), and simulated or <strong>real</strong> quantum computers. There are other open source quantum computing libraries out there, but I'll use qiskit for now. I won't cover the details of qiskit, so if you want to learn more, <strong>definitely</strong> go through their \"getting started\" [tutorials](https://github.com/Qiskit/qiskit-iqx-tutorials/blob/master/qiskit/1_start_here.ipynb).\n",
    "\n",
    "## Note\n",
    "I'm going to introduce A LOT of new terms and ideas quickly so we can immediately begin using qiskit. Then, I'll back off and spend more time on core concepts."
   ]
  },
  {
   "cell_type": "code",
   "execution_count": 1,
   "metadata": {},
   "outputs": [],
   "source": [
    "# This may take a few seconds\n",
    "import numpy as np\n",
    "import pandas as pd\n",
    "from qiskit import *  # this imports all of qiskit's sublibraries\n",
    "import matplotlib.pyplot as plt"
   ]
  },
  {
   "cell_type": "markdown",
   "metadata": {},
   "source": [
    "## The quantum behind quantum computing is the qubit\n",
    "—plain and simple. Just as normal computers store and manipulate information through [bits](https://en.wikipedia.org/wiki/Bit), quantum computers store and manipulate information through [qubits](https://www.epiqc.cs.uchicago.edu/1qubit). So... what is a qubit? And what rules to they follow?\n",
    "\n",
    "# The Qubit\n",
    "\n",
    "The qubit is a quantum bit. (Get it? quantum bit —> qubit? Physics jokes... anyway.) A qubit can be 0 or 1—much like it's classical companion the bit. However, what distinguishes a qubit from a bit, is (obviously) the <strong>quantum</strong> part! The quantum part of a qubit follows different rules than a bit. The rules are called quantum mechanics, and if you're clever, they <em>can</em> (but not always) lead to <strong>EXPONENTIALLY</strong> faster computation than a computer using bits. Thus, the appeal for making quantum computers.\n",
    "\n",
    "Let's highlight the difference between a bit and a qubit. A classical bit is <strong>always</strong> 100% 0 <strong>OR</strong> 1, but never both at the same time. A qubit can be both 0 and 1 at the same time. For instance, a qubit can be 55% 0 and 45% 1. A qubit can have <strong>any probability</strong> of being 0 or 1 as long as those probabilities add to one. 12.304985723495% 0 and 87.695014276505% 1 is totally possible.\n",
    "\n",
    "To work with qubits in qiskit, we start with a <strong>quantum circuit</strong>. We can simply think of the quantum circuit as the space <strong>where the qubits live</strong> and where we can <strong>manipulate them</strong> (by appling <strong>gates</strong>—more on this later)."
   ]
  },
  {
   "cell_type": "code",
   "execution_count": 74,
   "metadata": {},
   "outputs": [
    {
     "data": {
      "text/html": [
       "<pre style=\"word-wrap: normal;white-space: pre;background: #fff0;line-height: 1.1;font-family: &quot;Courier New&quot;,Courier,monospace\">        ┌───┐┌─┐\n",
       "q_0: |0>┤ H ├┤M├\n",
       "        └───┘└╥┘\n",
       " c_0: 0 ══════╩═\n",
       "                </pre>"
      ],
      "text/plain": [
       "<qiskit.visualization.text.TextDrawing at 0x12e91e048>"
      ]
     },
     "execution_count": 74,
     "metadata": {},
     "output_type": "execute_result"
    }
   ],
   "source": [
    "# Initialize a quantum circuit\n",
    "circuit = QuantumCircuit(1,1)  # the argument (1,1) tells qiskit you want 1 qubit and 1 classical bit\n",
    "circuit.h(0)  # this method applies the Hadamard gate to the 0th qubit\n",
    "circuit.measure(0,0)  # this method measures the 0th qubit and stores the outcome in the 0th classical bit\n",
    "\n",
    "# Visualize the constructed circuit\n",
    "circuit.draw()"
   ]
  },
  {
   "cell_type": "markdown",
   "metadata": {},
   "source": [
    "You just created a quantum computing code. How cool!! :D\n",
    "\n",
    "Let's take a moment and discuss what happened. We initialized one qubit and one classical bit by calling ```QuantumCircuit(1,1)```. That's the \"q_0:\" and \"c_0:\" part of the drawing above. In qiskit, all qubits are initialized to 0 represented by the \"|0>\" part of the drawing. Why the need for a classical bit you ask? When the qubit is measured, the result needs to be stored somewhere. The classical bit is where the measurement result is stored. In some experiments you may not need a classical bit to companion every qubit because you don't intent of measure every qubit. (Sometimes, the qubits and they're bit companions are referred to as quantum and classical registers.) Next, we manipulated the qubit with a [Hadamard gate](https://en.wikipedia.org/wiki/Quantum_logic_gate#Hadamard_(H)_gate)—the box with the \"H\" in it. The Hadamard gate turns the qubit state 100% 0 to 50% 0 and 50% 1 or 100% 1 to 50% 0 and 50% 1. Last of all, we have to measure the qubit! Measurement is represented in qiskit by an \"M\" in a box with double lines going down to the qubit's companion bit.\n",
    "\n",
    "Let's run the circuit on a simulated quantum computer."
   ]
  },
  {
   "cell_type": "code",
   "execution_count": 72,
   "metadata": {},
   "outputs": [
    {
     "data": {
      "image/png": "[encoded data removed]",
      "text/plain": [
       "<Figure size 504x360 with 1 Axes>"
      ]
     },
     "execution_count": 72,
     "metadata": {},
     "output_type": "execute_result"
    }
   ],
   "source": [
    "# Initialize a simulated quantum computer\n",
    "backend = BasicAer.get_backend('qasm_simulator')\n",
    "# Execute quantum circuit with chosen quantum computer \"backend\" and number of repetitions \"shots\"\n",
    "result = execute(circuit, backend, shots=1).result()\n",
    "# Extract classical bit result\n",
    "counts = result.get_counts(circuit)\n",
    "\n",
    "# Show results in histogram\n",
    "visualization.plot_histogram(counts)"
   ]
  },
  {
   "cell_type": "markdown",
   "metadata": {},
   "source": [
    "The above histogram shows the qubit probability (1 being 100%) on the vertical axis with the state label (0 and 1) on the horizontal axis.\n",
    "\n",
    "Hm... Since qiskit initializes qubit to 0 and we applied a Hadamard gate, we were supposed to see 50% 0 and 50% 1 in the histogram. <strong>Can you see where we went wrong?</strong>. What if you rerun the cell above a few times. Does the histogram change from 100% 0 to 100% 1 or vice versa? Does it switch between the two evenly?\n",
    "\n",
    "What you're seeing is a subtle, but <strong>IMPORTANT point</strong> about qubits. Yes, they can be simultaneously 50% 0 and 50% 1, but when a qubit is measured, you will only get out 0 <strong>OR</strong> 1—<strong>NOT BOTH</strong>. To determine what probability of 0 and 1 the qubit has, the qubit needs to go through the process of initialization, manipulation and measurement many, many times. (Of course, the qubit is manipulated identically each time.)\n",
    "\n",
    "Qiskit uses the parameter \"shots\" to let us easily change the number of times the execution is repeated. Let's try 10000 shots this time."
   ]
  },
  {
   "cell_type": "code",
   "execution_count": 76,
   "metadata": {},
   "outputs": [
    {
     "data": {
      "image/png": "[encoded data removed]",
      "text/plain": [
       "<Figure size 504x360 with 1 Axes>"
      ]
     },
     "execution_count": 76,
     "metadata": {},
     "output_type": "execute_result"
    }
   ],
   "source": [
    "# Let's use the same circuit and backend we defined in the previous cell\n",
    "result = execute(circuit, backend, shots=10000).result()\n",
    "# Extract classical bit results\n",
    "counts = result.get_counts(circuit)\n",
    "# Show results in histogram\n",
    "visualization.plot_histogram(counts)"
   ]
  },
  {
   "cell_type": "markdown",
   "metadata": {},
   "source": [
    "THAT looks much better. Nearly 50% of the measurements yield 0 and other 50% of the times yield 1! Exactly how we expect the qubit to behave when using a Hadamard gate.\n",
    "\n",
    "You may be tempted to think this Hadamard gate is a box which randomly assigns the incoming qubit to 0 half the time and 1 the other half of the time.\n",
    "\n",
    "# Superposition\n",
    "The ability for a qubit to be 0 and 1 simultaneously is called superposition. Since the qubit can be \"positions\" 0 and 1 simultaneously, I guess physicists thought that was \"super.\"\n",
    "\n",
    "Generally speaking, a qubit in a superposition refers to any combination of probabilities 100-0, 50-50, 23.79-76.21. However, the most common meaning of \"superposition\" is a 50-50 split between 0 and 1.\n",
    "\n",
    "You may wonder, is the qubit **really** in 0 and 1 simultaneously or is something else going on? Short answer, the vast majority of physicists are very confident the qubit **really** is 0 and 1 at the same time. Long answer, take a quantum mechanics course and learn about Bell's inequalities and hidden local variables. As someone who regularly induces atoms into superpositions, I agree with the vast majority of physicists.\n",
    "\n",
    "A final note on superposition. **What does a superposition look like in real life?** It looks like initializing a qubit (could be an atom, superconducting circuit, photon, etc.) to 0 **or** 1, then manipulating it into a 50-50 superposition then measuring it. The measurement WILL ONLY RETURN A 0 **or** 1. To determine the superposition state of the qubit, many, many cycles of initialization, manipulation, and measurement are done. In the case of a 50-50 superposition. The detector would readout 0 and 1 each ~50% of the time."
   ]
  },
  {
   "cell_type": "markdown",
   "metadata": {},
   "source": []
  },
  {
   "cell_type": "markdown",
   "metadata": {},
   "source": []
  },
  {
   "cell_type": "code",
   "execution_count": null,
   "metadata": {},
   "outputs": [],
   "source": []
  },
  {
   "cell_type": "markdown",
   "metadata": {},
   "source": [
    "\n",
    "#### What are qubits made out of?\n",
    "A qubit can be made from a variety of things. The two main requirements are the thing has to follow the rules of <strong>quantum mechanics</strong> (think atoms, electronics, superconducting, photons, etc.) and the thing needs to have at least <strong>two different states</strong>. These two states are usually different energy levels and scientists say, \"if we measure the qubit it has energy level \"A\" that's a 0. If we measure energy level \"B\", that's a 1.\"\n",
    "\n",
    "The two leading qubit candidates out there are superconducting circuits (IBM, Google, Rigetti, etc.) and trapped ions (IonQ, Honeywell, many academic institutions, etc.). There are other ideas, but these two have the most funding and advancement when I wrote this (Jan. 2020).\n",
    "\n",
    "Superconducting circuits are nice because they are made the same way computer chips are made, and humans have become very, very good at making computer chips. Of course, the details and material used are different from your regular chip, but the fabrication process is similar enough to give superconducting circuits promise. However, defects inevitably arise during fabrication and defects are deadly to qubits—killing the quantum mechanicness of the circuits. Trapped ions are nice because ions will ALWAYS obey quantum mechanics and there are ALWAYS at least two levels (and if you use the same element, the ions will always be identical).\n",
    "\n",
    "#### What is the math of quantum computing?\n",
    "\n",
    "A very convention notation to describe qubits and how we manipulate them is <strong>Dirac notation</strong>. It uses a \"ket\" $| x \\rangle$ (or \"bra\" $\\langle x|$) to represent a qubit state. For example, a qubit 100% in the 0 state would be $|0\\rangle$. In general, we could say\n",
    "\n",
    "$$\n",
    "\\begin{align}\n",
    "|\\text{qubit state}\\rangle = a|0\\rangle + b|1\\rangle\n",
    "\\end{align}\n",
    "$$\n",
    "\n",
    "where $a^2 + b^2 = 1$. Note the probability of being 0 or 1 is the **square** of the coefficient. A state with $\\dfrac{1}{3}$ chance of 0 and $\\dfrac{2}{3}$ chance of 1 would look like $|x\\rangle = \\dfrac{1}{\\sqrt{3}}|0\\rangle + \\sqrt{\\dfrac{2}{3}}|1\\rangle$"
   ]
  },
  {
   "cell_type": "code",
   "execution_count": null,
   "metadata": {},
   "outputs": [],
   "source": []
  },
  {
   "cell_type": "code",
   "execution_count": null,
   "metadata": {},
   "outputs": [],
   "source": []
  },
  {
   "cell_type": "code",
   "execution_count": null,
   "metadata": {},
   "outputs": [],
   "source": []
  },
  {
   "cell_type": "markdown",
   "metadata": {},
   "source": [
    "# Superposition: quantum parallelism\n",
    "Deutsch-Jozsa algorithm leverages superposition with a deterministic outcome\n"
   ]
  },
  {
   "cell_type": "code",
   "execution_count": null,
   "metadata": {},
   "outputs": [],
   "source": []
  }
 ],
 "metadata": {
  "kernelspec": {
   "display_name": "Python 3",
   "language": "python",
   "name": "python3"
  },
  "language_info": {
   "codemirror_mode": {
    "name": "ipython",
    "version": 3
   },
   "file_extension": ".py",
   "mimetype": "text/x-python",
   "name": "python",
   "nbconvert_exporter": "python",
   "pygments_lexer": "ipython3",
   "version": "3.6.4"
  }
 },
 "nbformat": 4,
 "nbformat_minor": 2
}
