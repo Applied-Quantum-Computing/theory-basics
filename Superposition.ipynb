{
 "cells": [
  {
   "cell_type": "markdown",
   "metadata": {},
   "source": [
    "# Theory Basics: Superposition\n",
    "\n",
    "This notebook is for beginners! :D Those who are interested in quantum computing but have minimal to no experience. It's <strong>part two</strong> of the Theory Basics series, which is all about the basics of how quantum computing works. Here, I cover <strong>superposition</strong>—the first weird quantum behavior of qubits.\n",
    "\n",
    "#### Prerequisites:\n",
    "* [Theory Basics: the Qubit](https://appliedqc.org/2020/01/20/Theory-Basics-The-Qubit.html)"
   ]
  },
  {
   "cell_type": "code",
   "execution_count": 1,
   "metadata": {},
   "outputs": [],
   "source": [
    "# This may take a few seconds\n",
    "import numpy as np\n",
    "import pandas as pd\n",
    "from qiskit import *  # this imports all of qiskit's sublibraries\n",
    "import matplotlib.pyplot as plt"
   ]
  },
  {
   "cell_type": "markdown",
   "metadata": {},
   "source": [
    "# Superposition\n",
    "\n",
    "To appreciate the weirdness of superposition and to understand what superposition is, let's wax philosophical about the meaning of 0 and 1.\n",
    "\n",
    "A classical bit is either 0 OR 1. \"OR\" isn't just an English word. It means 0 and 1 are mutually exclusive. Since 0 and 1 are the only options in the bit universe, and they're mutually exclusive, 0 and 1 inherit another power. Just as NOT blue is every color other than blue, NOT 0 is eveything other than 0. Since 0 or 1 are the only options, NOT 0 = 1 and NOT 1 = 0. If you don't believe me ask your computer with the code below."
   ]
  },
  {
   "cell_type": "code",
   "execution_count": 16,
   "metadata": {},
   "outputs": [
    {
     "name": "stdout",
     "output_type": "stream",
     "text": [
      "NOT 0 equals 1\n",
      "NOT 1 equals 0\n"
     ]
    }
   ],
   "source": [
    "# Does not 0 = 1?\n",
    "if not 0 == 1:\n",
    "    print(\"NOT 0 equals 1\")\n",
    "else:\n",
    "    print(\"NOT 0 doesn't equal 1\")\n",
    "    \n",
    "# Does not 1 = 0?\n",
    "if not 1 == 0:\n",
    "    print(\"NOT 1 equals 0\")\n",
    "else:\n",
    "    print(\"NOT 1 doesn't equal 0\")"
   ]
  },
  {
   "cell_type": "markdown",
   "metadata": {},
   "source": [
    "Qubits follow these rules, but with extra features. As we concluded in the previous post, a Hadamard gate does randomly assign a qubit to 0 or 1, but puts the qubit into a 0 AND 1 state. The 0 AND 1 state is the extra feature. Is this mutually exclusive to the 0 state? how about mutally exclusive to 1 state? Is there a NOT 0 AND 1 state?\n",
    "\n",
    "To visualize the usual 0, 1, and 0 AND 1 states, we use the Bloch sphere. Oh and there are actually <strong>FOUR</strong> different NOT 0 AND 1 states."
   ]
  },
  {
   "cell_type": "code",
   "execution_count": null,
   "metadata": {},
   "outputs": [],
   "source": []
  },
  {
   "cell_type": "markdown",
   "metadata": {},
   "source": [
    "\n",
    "\n",
    "# What's Super About Superposition?\n",
    "Let's cut to the chase. The ability for a qubit to be 0 and 1 simultaneously is called superposition. Since the qubit can be \"positions\" 0 and 1 simultaneously, I guess physicists thought that was \"super.\"\n",
    "\n",
    "Generally speaking, a qubit in a superposition refers to any combination of probabilities 100-0, 50-50, 23.79-76.21. However, the most common meaning of \"superposition\" is a 50-50 split between 0 and 1.\n",
    "\n",
    "You may wonder, is the qubit **really** in 0 and 1 simultaneously or is something else going on? Short answer, the vast majority of physicists are very confident the qubit **really** is 0 and 1 at the same time. Long answer, take a quantum mechanics course and learn about Bell's inequalities and hidden local variables. As someone who regularly induces atoms into superpositions, I agree with the vast majority of physicists.\n",
    "\n",
    "A final note on superposition. **What does a superposition look like in real life?** It looks like initializing a qubit (could be an atom, superconducting circuit, photon, etc.) to 0 **or** 1, then manipulating it into a 50-50 superposition then measuring it. The measurement WILL ONLY RETURN A 0 **or** 1. To determine the superposition state of the qubit, many, many cycles of initialization, manipulation, and measurement are done. In the case of a 50-50 superposition. The detector would readout 0 and 1 each ~50% of the time."
   ]
  },
  {
   "cell_type": "code",
   "execution_count": null,
   "metadata": {},
   "outputs": [],
   "source": [
    "# Initialize a quantum circuit\n",
    "circuit = QuantumCircuit(1,1)  # the argument (1,1) tells qiskit you want 1 qubit and 1 classical bit\n",
    "circuit.h(0)  # this method applies the Hadamard gate to the 0th qubit\n",
    "circuit.measure(0,0)  # this method measures the 0th qubit and stores the outcome in the 0th classical bit\n",
    "\n",
    "# Visualize the constructed circuit\n",
    "circuit.draw()"
   ]
  },
  {
   "cell_type": "code",
   "execution_count": null,
   "metadata": {},
   "outputs": [],
   "source": [
    "# Let's use the same circuit and backend we defined in the previous cell\n",
    "result = execute(circuit, backend, shots=1).result()\n",
    "# Extract classical bit results\n",
    "counts = result.get_counts(circuit)\n",
    "# Show results in histogram\n",
    "visualization.plot_histogram(counts)"
   ]
  },
  {
   "cell_type": "markdown",
   "metadata": {},
   "source": [
    "What you're seeing is a subtle, but <strong>IMPORTANT point</strong> about qubits. Yes, they can be simultaneously 50% 0 and 50% 1, but when a qubit is measured, you will only get out 0 <strong>OR</strong> 1—<strong>NOT BOTH</strong>. To determine what probability of 0 and 1 the qubit has, the qubit needs to go through the process of initialization, manipulation and measurement many, many times. (Of course, the qubit is manipulated identically each time.)\n",
    "\n",
    "Qiskit uses the parameter \"shots\" to let us easily change the number of times the execution is repeated. Let's try 10000 shots this time."
   ]
  },
  {
   "cell_type": "code",
   "execution_count": null,
   "metadata": {},
   "outputs": [],
   "source": []
  },
  {
   "cell_type": "code",
   "execution_count": null,
   "metadata": {},
   "outputs": [],
   "source": [
    "# Let's use the same circuit and backend we defined in the previous cell\n",
    "result = execute(circuit, backend, shots=10000).result()\n",
    "# Extract classical bit results\n",
    "counts = result.get_counts(circuit)\n",
    "# Show results in histogram\n",
    "visualization.plot_histogram(counts)"
   ]
  },
  {
   "cell_type": "markdown",
   "metadata": {},
   "source": [
    "THAT looks much better. Nearly 50% of the measurements yield 0 and other 50% of the times yield 1! Exactly how we expect the qubit to behave when using a Hadamard gate.\n",
    "\n",
    "You may be tempted to think this Hadamard gate is simply a box which randomly assigns the incoming qubit to 0 half the time and 1 the other half of the time. If this were true what would happen if we apply two Hadamard gates in a row? Well, the initial 0 would randomly be assigned 0 or 1, then the 0 or 1 would be randomly assigned to 0 or 1 <em>again</em> leaving the final state in 50% 0 and 50% 1."
   ]
  },
  {
   "cell_type": "code",
   "execution_count": null,
   "metadata": {},
   "outputs": [],
   "source": []
  },
  {
   "cell_type": "markdown",
   "metadata": {},
   "source": [
    "\n",
    "Let's highlight the difference between a bit and a qubit. A classical bit is <strong>always</strong> 100% 0 <strong>OR</strong> 1, but never both at the same time. A qubit can both 0 and 1 at the same time. For instance, a qubit can be 55% 0 and 45% 1. A qubit can have <strong>any probability</strong> of being 0 or 1 as long as those probabilities add to one. 12.304985723495% 0 and 87.695014276505% 1 is totally possible.\n",
    "\n"
   ]
  },
  {
   "cell_type": "code",
   "execution_count": null,
   "metadata": {},
   "outputs": [],
   "source": []
  },
  {
   "cell_type": "markdown",
   "metadata": {},
   "source": [
    "# Superposition: quantum parallelism\n",
    "Deutsch-Jozsa algorithm leverages superposition with a deterministic outcome\n",
    "\n"
   ]
  },
  {
   "cell_type": "code",
   "execution_count": null,
   "metadata": {},
   "outputs": [],
   "source": []
  }
 ],
 "metadata": {
  "kernelspec": {
   "display_name": "Python 3",
   "language": "python",
   "name": "python3"
  },
  "language_info": {
   "codemirror_mode": {
    "name": "ipython",
    "version": 3
   },
   "file_extension": ".py",
   "mimetype": "text/x-python",
   "name": "python",
   "nbconvert_exporter": "python",
   "pygments_lexer": "ipython3",
   "version": "3.6.4"
  }
 },
 "nbformat": 4,
 "nbformat_minor": 2
}
