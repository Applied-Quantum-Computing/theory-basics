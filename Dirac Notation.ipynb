{
 "cells": [
  {
   "cell_type": "markdown",
   "metadata": {},
   "source": [
    "\n",
    "#### What are qubits made out of?\n",
    "A qubit can be made from a variety of things. The two main requirements are the thing has to follow the rules of <strong>quantum mechanics</strong> (think atoms, electronics, superconducting, photons, etc.) and the thing needs to have at least <strong>two different states</strong>. These two states are usually different energy levels and scientists say, \"if we measure the qubit it has energy level \"A\" that's a 0. If we measure energy level \"B\", that's a 1.\"\n",
    "\n",
    "The two leading qubit candidates out there are superconducting circuits (IBM, Google, Rigetti, etc.) and trapped ions (IonQ, Honeywell, many academic institutions, etc.). There are other ideas, but these two have the most funding and advancement when I wrote this (Jan. 2020).\n",
    "\n",
    "Superconducting circuits are nice because they are made the same way computer chips are made, and humans have become very, very good at making computer chips. Of course, the details and material used are different from your regular chip, but the fabrication process is similar enough to give superconducting circuits promise. However, defects inevitably arise during fabrication and defects are deadly to qubits—killing the quantum mechanicness of the circuits. Trapped ions are nice because ions will ALWAYS obey quantum mechanics and there are ALWAYS at least two levels (and if you use the same element, the ions will always be identical).\n",
    "\n",
    "#### What is the math of quantum computing?\n",
    "\n",
    "A very convention notation to describe qubits and how we manipulate them is <strong>Dirac notation</strong>. It uses a \"ket\" $| x \\rangle$ (or \"bra\" $\\langle x|$) to represent a qubit state. For example, a qubit 100% in the 0 state would be $|0\\rangle$. In general, we could say\n",
    "\n",
    "$$\n",
    "\\begin{align}\n",
    "|\\text{qubit state}\\rangle = a|0\\rangle + b|1\\rangle\n",
    "\\end{align}\n",
    "$$\n",
    "\n",
    "where $a^2 + b^2 = 1$. Note the probability of being 0 or 1 is the **square** of the coefficient. A state with $\\dfrac{1}{3}$ chance of 0 and $\\dfrac{2}{3}$ chance of 1 would look like $|x\\rangle = \\dfrac{1}{\\sqrt{3}}|0\\rangle + \\sqrt{\\dfrac{2}{3}}|1\\rangle$"
   ]
  },
  {
   "cell_type": "code",
   "execution_count": null,
   "metadata": {},
   "outputs": [],
   "source": []
  },
  {
   "cell_type": "code",
   "execution_count": null,
   "metadata": {},
   "outputs": [],
   "source": []
  },
  {
   "cell_type": "code",
   "execution_count": null,
   "metadata": {},
   "outputs": [],
   "source": []
  }
 ],
 "metadata": {
  "kernelspec": {
   "display_name": "Python 3",
   "language": "python",
   "name": "python3"
  },
  "language_info": {
   "codemirror_mode": {
    "name": "ipython",
    "version": 3
   },
   "file_extension": ".py",
   "mimetype": "text/x-python",
   "name": "python",
   "nbconvert_exporter": "python",
   "pygments_lexer": "ipython3",
   "version": "3.6.4"
  }
 },
 "nbformat": 4,
 "nbformat_minor": 2
}
