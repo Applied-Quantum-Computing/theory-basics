{
 "cells": [
  {
   "cell_type": "markdown",
   "metadata": {},
   "source": [
    "# Theory Basics: the \"Quantum\" Behind Quantum Computing\n",
    "\n",
    "This notebook is for beginners! :D (Those who are interested in quantum computing but have not taken an college level quantum mechanics course.) I'll be real with you, this notebook dives into the **basic concepts** of quantum computing and not much application. Application will build off what you've learned here.\n",
    "\n",
    "Before we start, here are some prereqs that really are prerequisite to understanding the quantum behind quantum computing.\n",
    "\n",
    "**Prerequisites:**\n",
    "* familiar with python\n",
    "* familiar with matrices (linear algebra is the language of quantum computing)\n",
    "* familiar with jupyter notebooks\n",
    "* [prevision notebook](The%20Qubit%20and%20Superposition.ipynb)\n",
    "\n",
    "If you meet these prereqs, great! :D If not, I doubt this notebook will be helpful to you. I **strongly** encourage you to learn those topics before going on. I'd suggest Khan academy for linear algebra—particularly eigenvectors and eigenvalues.\n",
    "\n",
    "Let's dive in!\n",
    "\n",
    "### Qiskit\n",
    "To get started, you'll need to [install qiskit](https://qiskit.org/documentation/install.html#install). Qiskit is IBM's open source quantum computing python library. It has everything you need to make your own algorithms, execute well known algorithms, and run them on simulated or real quantum computers. There are other open source quantum computing libraries out there, but we'll just use qiskit for now. If you want to learn more about qiskit **definitely** go through their \"getting started\" [tutorials](https://github.com/Qiskit/qiskit-iqx-tutorials/blob/master/qiskit/1_start_here.ipynb)."
   ]
  },
  {
   "cell_type": "code",
   "execution_count": 1,
   "metadata": {},
   "outputs": [],
   "source": [
    "# This may take a few seconds\n",
    "import numpy as np\n",
    "import pandas as pd\n",
    "from qiskit import *\n",
    "import matplotlib.pyplot as plt"
   ]
  },
  {
   "cell_type": "markdown",
   "metadata": {},
   "source": [
    "**The quantum behind quantum computing is the qubit**—plain and simple. Just as normal computers store and manipulate information through [bits](https://en.wikipedia.org/wiki/Bit), quantum computers store and manipulate information through [qubits](https://www.epiqc.cs.uchicago.edu/1qubit).\n",
    "\n",
    "# The Qubit\n",
    "\n",
    "The qubit is a quantum bit. (Get it? quantum bit -> qubit? Physics jokes...) A qubit can be 0 or 1—much like it's classical companion. However, what distinguishes a qubit from a bit, is the **quantum** part. The quantum part of a qubit allows it to have a **probability** of being in 0 **and** 1 simultaneously.\n",
    "\n",
    "Let's highlight the difference between a bit and a qubit a little more. A classical bit is **always** 100% 0 **or** 1, but a qubit can be 55% 0 and 45% 1. A qubit can have any probability of being 0 than 1 as long as those probabilities **always** add to one.\n",
    "\n",
    "Let's use to math to illustrate. A very convention notation to use is Dirac notation. It uses a \"ket\" $| x \\rangle$ (or \"bra\" $\\langle x|$) to represent a qubit state. For example, a qubit 100% in the 0 state would be $|x\\rangle = |0\\rangle$. In general, we could say\n",
    "\n",
    "$$\n",
    "\\begin{align}\n",
    "|x\\rangle = \\alpha|0\\rangle + \\beta|1\\rangle\n",
    "\\end{align}\n",
    "$$\n",
    "\n",
    "where $\\alpha^2 + \\beta^2 = 1$. Note the probability of being 0 or 1 is the **square** of the coefficient. A 1/3 chance of 0 and 2/3 chance of 1 would look like $|x\\rangle = \\dfrac{1}{\\sqrt{3}}|0\\rangle + \\sqrt{\\dfrac{2}{3}}|1\\rangle$"
   ]
  },
  {
   "cell_type": "code",
   "execution_count": null,
   "metadata": {},
   "outputs": [],
   "source": []
  },
  {
   "cell_type": "markdown",
   "metadata": {},
   "source": [
    "### Superposition\n",
    "The ability for a qubit to be 0 and 1 simultaneously is called superposition. Since the qubit can be \"positions\" 0 and 1 simultaneously, I guess physicists thought that was \"super.\"\n",
    "\n",
    "Generally speaking, a qubit in a superposition refers to any combination of probabilities 100-0, 50-50, 23.79-76.21. However, the most common meaning of \"superposition\" is a 50-50 split between 0 and 1.\n",
    "\n",
    "You may wonder, is the qubit **really** in 0 and 1 simultaneously or is something else going on? Short answer, the vast majority of physicists are very confident the qubit **really** is 0 and 1 at the same time. Long answer, take a quantum mechanics course and learn about Bell's inequalities and hidden local variables. As someone who regularly induces atoms into superpositions, I agree with the vast majority of physicists.\n",
    "\n",
    "A final note on superposition. **What does a superposition look like in real life?** It looks like initializing a qubit (could be an atom, superconducting circuit, photon, etc.) to 0 **or** 1, then manipulating it into a 50-50 superposition then measuring it. The measurement WILL ONLY RETURN A 0 **or** 1. To determine the superposition state of the qubit, many, many cycles of initialization, manipulation, and measurement are done. In the case of a 50-50 superposition. The detector would readout 0 and 1 each ~50% of the time."
   ]
  },
  {
   "cell_type": "code",
   "execution_count": null,
   "metadata": {},
   "outputs": [],
   "source": []
  },
  {
   "cell_type": "markdown",
   "metadata": {},
   "source": [
    "### Entanglement\n",
    "While superposition is a the \"quantumness\" of individual qubits, entanglement is the \"quantumness\" of 2 or more qubits. (Technically it's just 2 or more degrees of freedom, but for a quantum computer, the degrees of freedom are the qubits.) Within the realm of quantum computing, entanglement is like superposition but for a group of qubits. It tells you something about the overall state of many qubits. For example, a group of qubits could be all 0 and all 1 simultaneously. In short, qubits in an entangled state are correlated with each other. That means if you entangle qubits $|x\\rangle$ and $|y\\rangle$ (and know how you did it) and then measure qubit $|x\\rangle$, you will **always** know what state $|y\\rangle$ is. In terms of Dirac notation an entangled state looks something like this\n",
    "$$\n",
    "\\begin{align}\n",
    "|z\\rangle = \\dfrac{|00\\rangle + |11\\rangle}{2}\n",
    "\\end{align}\n",
    "$$\n",
    "where qubit x is the first 0 and 1 inside the kets and qubit y is the second 0 and 1 inside the kets.\n",
    "\n",
    "Let's say we measure qubit x and get a 0, then we **know** qubit y must also be in state 0. If we regenerate the entanglement and measure, finding qubit x in state 1, then we **know** qubit y must also be in state 1. 50% of the time we'll find they are both 0. The other 50% of the time, we'll find they're both 1. Einstein called this \"spooky action at a distance.\"\n",
    "\n",
    "There are many different entangled states. Mathematically speaking, an entangled state is one that is not a product state. A product state is one where on of the qubits can be \"factored out.\" Here's an example\n",
    "$$\n",
    "\\begin{align}\n",
    "|z\\rangle = \\dfrac{|00\\rangle + |01\\rangle}{2}\n",
    "\\end{align}\n",
    "$$\n",
    "Notice how the first qubit in both kets is in the 0 state, we can \"factor\" it out like so\n",
    "$$\n",
    "\\begin{align}\n",
    "|z\\rangle = \\dfrac{|00\\rangle + |01\\rangle}{2} = |0\\rangle \\otimes \\dfrac{|0\\rangle + |1\\rangle}{2}\n",
    "\\end{align}\n",
    "$$\n",
    "where $ \\otimes $ is a [tensor product](https://en.wikipedia.org/wiki/Tensor_product). You can think of it as the math way of combining multiple qubits together. The tensor product usually implied and not always written out. (Take a quantum mechanics and linear algebra class if you want to learn more.)"
   ]
  }
 ],
 "metadata": {
  "kernelspec": {
   "display_name": "Python 3",
   "language": "python",
   "name": "python3"
  },
  "language_info": {
   "codemirror_mode": {
    "name": "ipython",
    "version": 3
   },
   "file_extension": ".py",
   "mimetype": "text/x-python",
   "name": "python",
   "nbconvert_exporter": "python",
   "pygments_lexer": "ipython3",
   "version": "3.6.4"
  }
 },
 "nbformat": 4,
 "nbformat_minor": 2
}
